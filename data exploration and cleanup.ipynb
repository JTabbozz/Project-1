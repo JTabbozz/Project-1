{
 "cells": [
  {
   "cell_type": "code",
   "execution_count": 1,
   "id": "911ab8e8",
   "metadata": {},
   "outputs": [],
   "source": [
    "import pandas as pd\n",
    "import matplotlib as plt\n",
    "import numpy as np\n",
    "import datetime as dt\n",
    "from scipy import stats"
   ]
  },
  {
   "cell_type": "code",
   "execution_count": 2,
   "id": "47cc8cdf",
   "metadata": {},
   "outputs": [
    {
     "ename": "FileNotFoundError",
     "evalue": "[Errno 2] No such file or directory: 'Resources/850104.xlsx'",
     "output_type": "error",
     "traceback": [
      "\u001b[0;31m---------------------------------------------------------------------------\u001b[0m",
      "\u001b[0;31mFileNotFoundError\u001b[0m                         Traceback (most recent call last)",
      "\u001b[0;32m/var/folders/fk/8bmnwbx95017gpkvh5m0m24r0000gn/T/ipykernel_50201/2984313223.py\u001b[0m in \u001b[0;36m<module>\u001b[0;34m\u001b[0m\n\u001b[0;32m----> 1\u001b[0;31m \u001b[0mstate_turnover_perc_change\u001b[0m \u001b[0;34m=\u001b[0m \u001b[0mpd\u001b[0m\u001b[0;34m.\u001b[0m\u001b[0mread_excel\u001b[0m\u001b[0;34m(\u001b[0m\u001b[0;34m\"Resources/850104.xlsx\"\u001b[0m\u001b[0;34m,\u001b[0m \u001b[0msheet_name\u001b[0m\u001b[0;34m=\u001b[0m\u001b[0;34m\"Data1\"\u001b[0m\u001b[0;34m)\u001b[0m\u001b[0;34m\u001b[0m\u001b[0;34m\u001b[0m\u001b[0m\n\u001b[0m\u001b[1;32m      2\u001b[0m \u001b[0mindustry_turnover_perc_change\u001b[0m \u001b[0;34m=\u001b[0m \u001b[0mpd\u001b[0m\u001b[0;34m.\u001b[0m\u001b[0mread_excel\u001b[0m\u001b[0;34m(\u001b[0m\u001b[0;34m\"Resources/850102.xlsx\"\u001b[0m\u001b[0;34m,\u001b[0m \u001b[0msheet_name\u001b[0m\u001b[0;34m=\u001b[0m\u001b[0;34m\"Data1\"\u001b[0m\u001b[0;34m)\u001b[0m\u001b[0;34m\u001b[0m\u001b[0;34m\u001b[0m\u001b[0m\n\u001b[1;32m      3\u001b[0m \u001b[0;34m\u001b[0m\u001b[0m\n\u001b[1;32m      4\u001b[0m \u001b[0mstate_turnover_df\u001b[0m\u001b[0;34m=\u001b[0m\u001b[0mpd\u001b[0m\u001b[0;34m.\u001b[0m\u001b[0mDataFrame\u001b[0m\u001b[0;34m(\u001b[0m\u001b[0mstate_turnover_perc_change\u001b[0m\u001b[0;34m)\u001b[0m\u001b[0;34m\u001b[0m\u001b[0;34m\u001b[0m\u001b[0m\n\u001b[1;32m      5\u001b[0m \u001b[0mindustry_turnover_df\u001b[0m\u001b[0;34m=\u001b[0m \u001b[0mpd\u001b[0m\u001b[0;34m.\u001b[0m\u001b[0mDataFrame\u001b[0m\u001b[0;34m(\u001b[0m\u001b[0mindustry_turnover_perc_change\u001b[0m\u001b[0;34m)\u001b[0m\u001b[0;34m\u001b[0m\u001b[0;34m\u001b[0m\u001b[0m\n",
      "\u001b[0;32m~/opt/anaconda3/lib/python3.9/site-packages/pandas/util/_decorators.py\u001b[0m in \u001b[0;36mwrapper\u001b[0;34m(*args, **kwargs)\u001b[0m\n\u001b[1;32m    309\u001b[0m                     \u001b[0mstacklevel\u001b[0m\u001b[0;34m=\u001b[0m\u001b[0mstacklevel\u001b[0m\u001b[0;34m,\u001b[0m\u001b[0;34m\u001b[0m\u001b[0;34m\u001b[0m\u001b[0m\n\u001b[1;32m    310\u001b[0m                 )\n\u001b[0;32m--> 311\u001b[0;31m             \u001b[0;32mreturn\u001b[0m \u001b[0mfunc\u001b[0m\u001b[0;34m(\u001b[0m\u001b[0;34m*\u001b[0m\u001b[0margs\u001b[0m\u001b[0;34m,\u001b[0m \u001b[0;34m**\u001b[0m\u001b[0mkwargs\u001b[0m\u001b[0;34m)\u001b[0m\u001b[0;34m\u001b[0m\u001b[0;34m\u001b[0m\u001b[0m\n\u001b[0m\u001b[1;32m    312\u001b[0m \u001b[0;34m\u001b[0m\u001b[0m\n\u001b[1;32m    313\u001b[0m         \u001b[0;32mreturn\u001b[0m \u001b[0mwrapper\u001b[0m\u001b[0;34m\u001b[0m\u001b[0;34m\u001b[0m\u001b[0m\n",
      "\u001b[0;32m~/opt/anaconda3/lib/python3.9/site-packages/pandas/io/excel/_base.py\u001b[0m in \u001b[0;36mread_excel\u001b[0;34m(io, sheet_name, header, names, index_col, usecols, squeeze, dtype, engine, converters, true_values, false_values, skiprows, nrows, na_values, keep_default_na, na_filter, verbose, parse_dates, date_parser, thousands, comment, skipfooter, convert_float, mangle_dupe_cols, storage_options)\u001b[0m\n\u001b[1;32m    362\u001b[0m     \u001b[0;32mif\u001b[0m \u001b[0;32mnot\u001b[0m \u001b[0misinstance\u001b[0m\u001b[0;34m(\u001b[0m\u001b[0mio\u001b[0m\u001b[0;34m,\u001b[0m \u001b[0mExcelFile\u001b[0m\u001b[0;34m)\u001b[0m\u001b[0;34m:\u001b[0m\u001b[0;34m\u001b[0m\u001b[0;34m\u001b[0m\u001b[0m\n\u001b[1;32m    363\u001b[0m         \u001b[0mshould_close\u001b[0m \u001b[0;34m=\u001b[0m \u001b[0;32mTrue\u001b[0m\u001b[0;34m\u001b[0m\u001b[0;34m\u001b[0m\u001b[0m\n\u001b[0;32m--> 364\u001b[0;31m         \u001b[0mio\u001b[0m \u001b[0;34m=\u001b[0m \u001b[0mExcelFile\u001b[0m\u001b[0;34m(\u001b[0m\u001b[0mio\u001b[0m\u001b[0;34m,\u001b[0m \u001b[0mstorage_options\u001b[0m\u001b[0;34m=\u001b[0m\u001b[0mstorage_options\u001b[0m\u001b[0;34m,\u001b[0m \u001b[0mengine\u001b[0m\u001b[0;34m=\u001b[0m\u001b[0mengine\u001b[0m\u001b[0;34m)\u001b[0m\u001b[0;34m\u001b[0m\u001b[0;34m\u001b[0m\u001b[0m\n\u001b[0m\u001b[1;32m    365\u001b[0m     \u001b[0;32melif\u001b[0m \u001b[0mengine\u001b[0m \u001b[0;32mand\u001b[0m \u001b[0mengine\u001b[0m \u001b[0;34m!=\u001b[0m \u001b[0mio\u001b[0m\u001b[0;34m.\u001b[0m\u001b[0mengine\u001b[0m\u001b[0;34m:\u001b[0m\u001b[0;34m\u001b[0m\u001b[0;34m\u001b[0m\u001b[0m\n\u001b[1;32m    366\u001b[0m         raise ValueError(\n",
      "\u001b[0;32m~/opt/anaconda3/lib/python3.9/site-packages/pandas/io/excel/_base.py\u001b[0m in \u001b[0;36m__init__\u001b[0;34m(self, path_or_buffer, engine, storage_options)\u001b[0m\n\u001b[1;32m   1189\u001b[0m                 \u001b[0mext\u001b[0m \u001b[0;34m=\u001b[0m \u001b[0;34m\"xls\"\u001b[0m\u001b[0;34m\u001b[0m\u001b[0;34m\u001b[0m\u001b[0m\n\u001b[1;32m   1190\u001b[0m             \u001b[0;32melse\u001b[0m\u001b[0;34m:\u001b[0m\u001b[0;34m\u001b[0m\u001b[0;34m\u001b[0m\u001b[0m\n\u001b[0;32m-> 1191\u001b[0;31m                 ext = inspect_excel_format(\n\u001b[0m\u001b[1;32m   1192\u001b[0m                     \u001b[0mcontent_or_path\u001b[0m\u001b[0;34m=\u001b[0m\u001b[0mpath_or_buffer\u001b[0m\u001b[0;34m,\u001b[0m \u001b[0mstorage_options\u001b[0m\u001b[0;34m=\u001b[0m\u001b[0mstorage_options\u001b[0m\u001b[0;34m\u001b[0m\u001b[0;34m\u001b[0m\u001b[0m\n\u001b[1;32m   1193\u001b[0m                 )\n",
      "\u001b[0;32m~/opt/anaconda3/lib/python3.9/site-packages/pandas/io/excel/_base.py\u001b[0m in \u001b[0;36minspect_excel_format\u001b[0;34m(content_or_path, storage_options)\u001b[0m\n\u001b[1;32m   1068\u001b[0m         \u001b[0mcontent_or_path\u001b[0m \u001b[0;34m=\u001b[0m \u001b[0mBytesIO\u001b[0m\u001b[0;34m(\u001b[0m\u001b[0mcontent_or_path\u001b[0m\u001b[0;34m)\u001b[0m\u001b[0;34m\u001b[0m\u001b[0;34m\u001b[0m\u001b[0m\n\u001b[1;32m   1069\u001b[0m \u001b[0;34m\u001b[0m\u001b[0m\n\u001b[0;32m-> 1070\u001b[0;31m     with get_handle(\n\u001b[0m\u001b[1;32m   1071\u001b[0m         \u001b[0mcontent_or_path\u001b[0m\u001b[0;34m,\u001b[0m \u001b[0;34m\"rb\"\u001b[0m\u001b[0;34m,\u001b[0m \u001b[0mstorage_options\u001b[0m\u001b[0;34m=\u001b[0m\u001b[0mstorage_options\u001b[0m\u001b[0;34m,\u001b[0m \u001b[0mis_text\u001b[0m\u001b[0;34m=\u001b[0m\u001b[0;32mFalse\u001b[0m\u001b[0;34m\u001b[0m\u001b[0;34m\u001b[0m\u001b[0m\n\u001b[1;32m   1072\u001b[0m     ) as handle:\n",
      "\u001b[0;32m~/opt/anaconda3/lib/python3.9/site-packages/pandas/io/common.py\u001b[0m in \u001b[0;36mget_handle\u001b[0;34m(path_or_buf, mode, encoding, compression, memory_map, is_text, errors, storage_options)\u001b[0m\n\u001b[1;32m    709\u001b[0m         \u001b[0;32melse\u001b[0m\u001b[0;34m:\u001b[0m\u001b[0;34m\u001b[0m\u001b[0;34m\u001b[0m\u001b[0m\n\u001b[1;32m    710\u001b[0m             \u001b[0;31m# Binary mode\u001b[0m\u001b[0;34m\u001b[0m\u001b[0;34m\u001b[0m\u001b[0m\n\u001b[0;32m--> 711\u001b[0;31m             \u001b[0mhandle\u001b[0m \u001b[0;34m=\u001b[0m \u001b[0mopen\u001b[0m\u001b[0;34m(\u001b[0m\u001b[0mhandle\u001b[0m\u001b[0;34m,\u001b[0m \u001b[0mioargs\u001b[0m\u001b[0;34m.\u001b[0m\u001b[0mmode\u001b[0m\u001b[0;34m)\u001b[0m\u001b[0;34m\u001b[0m\u001b[0;34m\u001b[0m\u001b[0m\n\u001b[0m\u001b[1;32m    712\u001b[0m         \u001b[0mhandles\u001b[0m\u001b[0;34m.\u001b[0m\u001b[0mappend\u001b[0m\u001b[0;34m(\u001b[0m\u001b[0mhandle\u001b[0m\u001b[0;34m)\u001b[0m\u001b[0;34m\u001b[0m\u001b[0;34m\u001b[0m\u001b[0m\n\u001b[1;32m    713\u001b[0m \u001b[0;34m\u001b[0m\u001b[0m\n",
      "\u001b[0;31mFileNotFoundError\u001b[0m: [Errno 2] No such file or directory: 'Resources/850104.xlsx'"
     ]
    }
   ],
   "source": [
    "state_turnover_perc_change = pd.read_excel(\"Resources/850104.xlsx\", sheet_name=\"Data1\")\n",
    "industry_turnover_perc_change = pd.read_excel(\"Resources/850102.xlsx\", sheet_name=\"Data1\")\n",
    "\n",
    "state_turnover_df=pd.DataFrame(state_turnover_perc_change)\n",
    "industry_turnover_df= pd.DataFrame(industry_turnover_perc_change)\n",
    "state_turnover_df = state_turnover_df.drop(labels=range(0, 460), axis=0)\n",
    "state_turnover_df.head()"
   ]
  },
  {
   "cell_type": "code",
   "execution_count": null,
   "id": "f0a05e05",
   "metadata": {},
   "outputs": [],
   "source": [
    "state_turnover_df.columns"
   ]
  },
  {
   "cell_type": "code",
   "execution_count": null,
   "id": "a6f9b5b8",
   "metadata": {},
   "outputs": [],
   "source": [
    "cleaned_state_df=state_turnover_df[['Unnamed: 0',\n",
    "       '% change from preceding month ;  New South Wales ;  Total (Industry) ;',\n",
    "       '% change from preceding month ;  Victoria ;  Total (Industry) ;',\n",
    "       '% change from preceding month ;  Queensland ;  Total (Industry) ;',\n",
    "       '% change from preceding month ;  South Australia ;  Total (Industry) ;',\n",
    "       '% change from preceding month ;  Western Australia ;  Total (Industry) ;',\n",
    "       '% change from preceding month ;  Tasmania ;  Total (Industry) ;',\n",
    "       '% change from preceding month ;  Northern Territory ;  Total (Industry) ;',\n",
    "       '% change from preceding month ;  Australian Capital Territory ;  Total (Industry) ;',\n",
    "       '% change from preceding month ;  Total (State) ;  Total (Industry) ;',\n",
    "       '% change from preceding month ;  New South Wales ;  Total (Industry) ;.1',\n",
    "       '% change from preceding month ;  Victoria ;  Total (Industry) ;.1',\n",
    "       '% change from preceding month ;  Queensland ;  Total (Industry) ;.1',\n",
    "       '% change from preceding month ;  South Australia ;  Total (Industry) ;.1',\n",
    "       '% change from preceding month ;  Western Australia ;  Total (Industry) ;.1',\n",
    "       '% change from preceding month ;  Tasmania ;  Total (Industry) ;.1',\n",
    "       '% change from preceding month ;  Northern Territory ;  Total (Industry) ;.1',\n",
    "       '% change from preceding month ;  Australian Capital Territory ;  Total (Industry) ;.1',\n",
    "       '% change from preceding month ;  Total (State) ;  Total (Industry) ;.1',]]"
   ]
  },
  {
   "cell_type": "code",
   "execution_count": null,
   "id": "ac6b2a64",
   "metadata": {},
   "outputs": [],
   "source": [
    "cleaned_state_df"
   ]
  },
  {
   "cell_type": "code",
   "execution_count": null,
   "id": "3f4cfdfd",
   "metadata": {},
   "outputs": [],
   "source": [
    "renamed_state_df = cleaned_state_df.rename(columns={'Unnamed: 0': 'Date',\n",
    "       '% change from preceding month ;  New South Wales ;  Total (Industry) ;': '% Change NSW',\n",
    "       '% change from preceding month ;  Victoria ;  Total (Industry) ;':'% Change VIC',\n",
    "       '% change from preceding month ;  Queensland ;  Total (Industry) ;':'% Change QLD',\n",
    "       '% change from preceding month ;  South Australia ;  Total (Industry) ;': '% Change SA',\n",
    "       '% change from preceding month ;  Western Australia ;  Total (Industry) ;': '% Change WA',\n",
    "       '% change from preceding month ;  Tasmania ;  Total (Industry) ;': '% Change TAS',\n",
    "       '% change from preceding month ;  Northern Territory ;  Total (Industry) ;':'% Change NT',\n",
    "       '% change from preceding month ;  Australian Capital Territory ;  Total (Industry) ;':'% Change ACT',\n",
    "       '% change from preceding month ;  Total (State) ;  Total (Industry) ;': '% Change Total',\n",
    "       '% change from preceding month ;  New South Wales ;  Total (Industry) ;.1': '% Change NSW Seasonal',\n",
    "       '% change from preceding month ;  Victoria ;  Total (Industry) ;.1':'% Change VIC Seasonal',\n",
    "       '% change from preceding month ;  Queensland ;  Total (Industry) ;.1': '% Change QLD Seasonal',\n",
    "       '% change from preceding month ;  South Australia ;  Total (Industry) ;.1': '% Change SA Seasonal',\n",
    "       '% change from preceding month ;  Western Australia ;  Total (Industry) ;.1': '% Change WA Seasonal',\n",
    "       '% change from preceding month ;  Tasmania ;  Total (Industry) ;.1': '% Change TAS Seasonal',\n",
    "       '% change from preceding month ;  Northern Territory ;  Total (Industry) ;.1': '% Change NT Seasonal',\n",
    "       '% change from preceding month ;  Australian Capital Territory ;  Total (Industry) ;.1': '% Change ACT Seasonal',\n",
    "       '% change from preceding month ;  Total (State) ;  Total (Industry) ;.1': '% Change Total Seasonal'})\n",
    "renamed_state_df"
   ]
  },
  {
   "cell_type": "code",
   "execution_count": null,
   "id": "51d523ff",
   "metadata": {
    "scrolled": true
   },
   "outputs": [],
   "source": [
    "industry_turnover_df = industry_turnover_df.drop(labels=range(0, 460), axis=0)\n",
    "industry_turnover_df"
   ]
  },
  {
   "cell_type": "code",
   "execution_count": null,
   "id": "58387869",
   "metadata": {},
   "outputs": [],
   "source": [
    "industry_turnover_df.columns"
   ]
  },
  {
   "cell_type": "code",
   "execution_count": null,
   "id": "1039ee59",
   "metadata": {},
   "outputs": [],
   "source": [
    "cleaned_industry_df=industry_turnover_df[['Unnamed: 0',\n",
    "       '% change from preceding month ;  Total (State) ;  Food retailing ;',\n",
    "       '% change from preceding month ;  Total (State) ;  Household goods retailing ;',\n",
    "       '% change from preceding month ;  Total (State) ;  Clothing, footwear and personal accessory retailing ;',\n",
    "       '% change from preceding month ;  Total (State) ;  Department stores ;',\n",
    "       '% change from preceding month ;  Total (State) ;  Other retailing ;',\n",
    "       '% change from preceding month ;  Total (State) ;  Cafes, restaurants and takeaway food services ;',\n",
    "       '% change from preceding month ;  Total (State) ;  Total (Industry) ;',\n",
    "       '% change from preceding month ;  Total (State) ;  Food retailing ;.1',\n",
    "       '% change from preceding month ;  Total (State) ;  Household goods retailing ;.1',\n",
    "       '% change from preceding month ;  Total (State) ;  Clothing, footwear and personal accessory retailing ;.1',\n",
    "       '% change from preceding month ;  Total (State) ;  Department stores ;.1',\n",
    "       '% change from preceding month ;  Total (State) ;  Other retailing ;.1',\n",
    "       '% change from preceding month ;  Total (State) ;  Cafes, restaurants and takeaway food services ;.1',\n",
    "       '% change from preceding month ;  Total (State) ;  Total (Industry) ;.1']]"
   ]
  },
  {
   "cell_type": "code",
   "execution_count": null,
   "id": "e32f8a6e",
   "metadata": {},
   "outputs": [],
   "source": [
    "cleaned_industry_df.head()"
   ]
  },
  {
   "cell_type": "code",
   "execution_count": null,
   "id": "332f7837",
   "metadata": {},
   "outputs": [],
   "source": [
    "renamed_industry_df = cleaned_industry_df.rename(columns={'Unnamed: 0':'Date',\n",
    "                      '% change from preceding month ;  Total (State) ;  Food retailing ;':'% change Food Retailing' ,\n",
    "                      '% change from preceding month ;  Total (State) ;  Household goods retailing ;':'% change Household Good Retailing',\n",
    "                      '% change from preceding month ;  Total (State) ;  Clothing, footwear and personal accessory retailing ;':'% change Clothing, Footwear and Personal Accessory Retailing',\n",
    "                      '% change from preceding month ;  Total (State) ;  Department stores ;': '% change Department Stores',\n",
    "                      '% change from preceding month ;  Total (State) ;  Other retailing ;':'% change Other Retailing',\n",
    "                      '% change from preceding month ;  Total (State) ;  Cafes, restaurants and takeaway food services ;': '% change Cafes, Restaurants and Takeaway',\n",
    "                      '% change from preceding month ;  Total (State) ;  Total (Industry) ;':'% change Total Industry',\n",
    "                      '% change from preceding month ;  Total (State) ;  Food retailing ;.1':'% change Food Retailing Seasonal',\n",
    "                      '% change from preceding month ;  Total (State) ;  Household goods retailing ;.1':'% change Household Goods Retailing Seasonal',\n",
    "                      '% change from preceding month ;  Total (State) ;  Clothing, footwear and personal accessory retailing ;.1':'% change Clothing, Footwear and Personal Accessory Retailing Seasonal',\n",
    "                      '% change from preceding month ;  Total (State) ;  Department stores ;.1': '% change Department Stores Seasonal',\n",
    "                      '% change from preceding month ;  Total (State) ;  Other retailing ;.1': '% change Other Retailing Seasonal',\n",
    "                      '% change from preceding month ;  Total (State) ;  Cafes, restaurants and takeaway food services ;.1': '% change Cafes, Restaurants and Takeaway Seasonal',\n",
    "                      '% change from preceding month ;  Total (State) ;  Total (Industry) ;.1':'% change Total Industry Seasonal'})\n",
    "\n",
    "renamed_industry_df"
   ]
  },
  {
   "cell_type": "code",
   "execution_count": null,
   "id": "3dc93984",
   "metadata": {},
   "outputs": [],
   "source": [
    "# Generate a summary statistics table of mean, median, variance, standard deviation, and SEM of the tumor volume for each regimen\n",
    "\n",
    "# This method produces everything in a single groupby function\n",
    "summary_stats = renamed_industry_df.groupby(\"Date\")[\"% change Total Industry\"].agg(['mean','median','var','std','sem'])\n",
    "summary_stats.head()"
   ]
  },
  {
   "cell_type": "code",
   "execution_count": null,
   "id": "e271894e",
   "metadata": {},
   "outputs": [],
   "source": [
    "covid_cases_df = pd.read_csv ('Resources/cases_daily_state.csv')\n",
    "#convert Date to datetime format\n",
    "covid_cases_df[\"Date\"] = pd.to_datetime(covid_cases_df[\"Date\"])\n",
    "covid_cases_df"
   ]
  },
  {
   "cell_type": "code",
   "execution_count": null,
   "id": "41e8b149",
   "metadata": {},
   "outputs": [],
   "source": [
    "clean_covid_data=covid_cases_df.dropna()\n",
    "clean_covid_data"
   ]
  },
  {
   "cell_type": "code",
   "execution_count": null,
   "id": "ad005b8a",
   "metadata": {},
   "outputs": [],
   "source": [
    "covid_cases_df.set_index('Date', inplace=True)\n",
    "covid_cases_df.index = pd.to_datetime(covid_cases_df.index)\n",
    "monthly_cases_df = covid_cases_df.resample('M').sum()\n",
    "monthly_cases_df.head()"
   ]
  },
  {
   "cell_type": "code",
   "execution_count": null,
   "id": "274d0da6",
   "metadata": {},
   "outputs": [],
   "source": [
    "monthly_cases_df\n",
    "monthly_cases_df.reset_index()"
   ]
  },
  {
   "cell_type": "code",
   "execution_count": null,
   "id": "79fac3cd",
   "metadata": {},
   "outputs": [],
   "source": [
    "monthly_cases_df['Total'] = monthly_cases_df.sum(axis=1)\n",
    "monthly_cases_df.reset_index()"
   ]
  },
  {
   "cell_type": "code",
   "execution_count": null,
   "id": "a162ad79",
   "metadata": {},
   "outputs": [],
   "source": [
    "monthly_cases_df['NSW %'] = (monthly_cases_df['NSW']/monthly_cases_df['Total'])*100\n",
    "monthly_cases_df['VIC %'] = (monthly_cases_df['VIC']/monthly_cases_df['Total'])*100\n",
    "monthly_cases_df['QLD %'] = (monthly_cases_df['QLD']/monthly_cases_df['Total'])*100\n",
    "monthly_cases_df['SA %'] = (monthly_cases_df['SA']/monthly_cases_df['Total'])*100\n",
    "monthly_cases_df['WA %'] = (monthly_cases_df['WA']/monthly_cases_df['Total'])*100\n",
    "monthly_cases_df['TAS %'] = (monthly_cases_df['TAS']/monthly_cases_df['Total'])*100\n",
    "monthly_cases_df['NT %'] = (monthly_cases_df['NT']/monthly_cases_df['Total'])*100\n",
    "monthly_cases_df['ACT %'] = (monthly_cases_df['ACT']/monthly_cases_df['Total'])*100\n",
    "\n",
    "monthly_cases_df.head()"
   ]
  },
  {
   "cell_type": "code",
   "execution_count": null,
   "id": "66f3f886",
   "metadata": {},
   "outputs": [],
   "source": [
    "percent_change_df = monthly_cases_df.diff()\n",
    "\n",
    "percent_change_df['NSW % variance'] = (percent_change_df['NSW']/percent_change_df['Total'])*100\n",
    "percent_change_df['VIC % variance'] = (percent_change_df['VIC']/percent_change_df['Total'])*100\n",
    "percent_change_df['QLD % variance'] = (percent_change_df['QLD']/percent_change_df['Total'])*100\n",
    "percent_change_df['SA % variance'] = (percent_change_df['SA']/percent_change_df['Total'])*100\n",
    "percent_change_df['WA % variance'] = (percent_change_df['WA']/percent_change_df['Total'])*100\n",
    "percent_change_df['TAS % variance'] = (percent_change_df['TAS']/percent_change_df['Total'])*100\n",
    "percent_change_df['NT % variance'] = (percent_change_df['NT']/percent_change_df['Total'])*100\n",
    "percent_change_df['ACT % variance'] = (percent_change_df['ACT']/percent_change_df['Total'])*100\n",
    "percent_change_df['Total Cases']= monthly_cases_df['Total']\n",
    "percent_change_df['Total % variance']= (percent_change_df.pct_change(fill_method='ffill')['Total Cases'])*100\n",
    "percent_change_df.rename(columns = {'Total':'Difference in total',\n",
    "                                   'NSW':'Difference NSW',\n",
    "                                   'VIC':'Difference VIC',\n",
    "                                   'QLD':'Difference QLD',\n",
    "                                   'SA':'Difference SA',\n",
    "                                   'WA':'Difference WA',\n",
    "                                   'TAS':'Difference TAS',\n",
    "                                   'NT':'Difference NT',\n",
    "                                   'ACT': 'Difference ACT'\n",
    "                                   }, inplace = True)\n",
    "percent_change_df.reset_index()\n",
    "\n",
    "del percent_change_df[\"NSW %\"]\n",
    "del percent_change_df[\"VIC %\"]\n",
    "del percent_change_df[\"QLD %\"]\n",
    "del percent_change_df[\"SA %\"]\n",
    "del percent_change_df[\"WA %\"]\n",
    "del percent_change_df[\"TAS %\"]\n",
    "del percent_change_df[\"NT %\"]\n",
    "del percent_change_df[\"ACT %\"]\n",
    "\n",
    "percent_change_df\n"
   ]
  },
  {
   "cell_type": "code",
   "execution_count": null,
   "id": "aa557d24",
   "metadata": {},
   "outputs": [],
   "source": []
  }
 ],
 "metadata": {
  "kernelspec": {
   "display_name": "Python 3 (ipykernel)",
   "language": "python",
   "name": "python3"
  },
  "language_info": {
   "codemirror_mode": {
    "name": "ipython",
    "version": 3
   },
   "file_extension": ".py",
   "mimetype": "text/x-python",
   "name": "python",
   "nbconvert_exporter": "python",
   "pygments_lexer": "ipython3",
   "version": "3.9.7"
  }
 },
 "nbformat": 4,
 "nbformat_minor": 5
}
